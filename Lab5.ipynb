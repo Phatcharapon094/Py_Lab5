{
  "nbformat": 4,
  "nbformat_minor": 0,
  "metadata": {
    "colab": {
      "provenance": [],
      "include_colab_link": true
    },
    "kernelspec": {
      "name": "python3",
      "display_name": "Python 3"
    },
    "language_info": {
      "name": "python"
    }
  },
  "cells": [
    {
      "cell_type": "markdown",
      "metadata": {
        "id": "view-in-github",
        "colab_type": "text"
      },
      "source": [
        "<a href=\"https://colab.research.google.com/github/Phatcharapon094/Py_Lab5/blob/main/Lab5.ipynb\" target=\"_parent\"><img src=\"https://colab.research.google.com/assets/colab-badge.svg\" alt=\"Open In Colab\"/></a>"
      ]
    },
    {
      "cell_type": "markdown",
      "source": [
        "รหัสนักศึกษา : 67015094 ชื่อ: พัชรพล ผลาชัย\n"
      ],
      "metadata": {
        "id": "ayuUhdui4PbN"
      }
    },
    {
      "cell_type": "markdown",
      "source": [
        "Exercise 5.1 ให้เขียน function ชื่อ day_of_year(day, month ,year) โดยมีการคืนค่า คือ day_of_years เป็นวันที่ลำดับที่เท่าใดของปีคริสตศักราช year\n",
        "ปีที่เป็น Leap Year เดือนกุมภาพันธ์จะมี 29 วัน\n",
        "ให้สร้างฟังก์ชัน is_leap เพื่อตรวจสอบ leap year แยกออกมา และให้ฟังก์ชัน day_of_year เรียกใช้ is_leap อีกที\n"
      ],
      "metadata": {
        "id": "ZXM4rXQB6Q9o"
      }
    },
    {
      "cell_type": "code",
      "source": [
        "days_in_month = [31, 28, 31, 30, 31, 30, 31, 31, 30, 31, 30, 31]\n",
        "\n",
        "def leap_year(year):\n",
        "  x= False\n",
        "  if year%4 == 0 and year%100!=0 or year%400==0:\n",
        "      x=True\n",
        "  else:\n",
        "      x=False\n",
        "\n",
        "  return(x)\n",
        "  pass\n",
        "\n",
        "def day_of_year(day, month, year):\n",
        "\n",
        "  x=leap_year(year)\n",
        "  sum = 0\n",
        "  sum = sum+day\n",
        "  for i in range(0,month-1):\n",
        "      sum = sum+days_in_month[i]\n",
        "  if x==True and month>2:\n",
        "      sum = sum+1\n",
        "  return(sum)\n",
        "  pass\n",
        "\n",
        "# Testcases\n",
        "print(\"Normal year (2023):\")\n",
        "print(f\"1 Jan 2023: {day_of_year(1, 1, 2023)}\")  # ควรได้ 1\n",
        "print(f\"1 Feb 2023: {day_of_year(1, 2, 2023)}\")  # ควรได้ 32\n",
        "print(f\"1 Mar 2023: {day_of_year(1, 3, 2023)}\")  # ควรได้ 60\n",
        "print(f\"31 Dec 2023: {day_of_year(31, 12, 2023)}\")  # ควรได้ 365\n",
        "\n",
        "print(\"\\nLeap year (2024):\")\n",
        "print(f\"1 Jan 2024: {day_of_year(1, 1, 2024)}\")  # ควรได้ 1\n",
        "print(f\"29 Feb 2024: {day_of_year(29, 2, 2024)}\")  # ควรได้ 60\n",
        "print(f\"1 Mar 2024: {day_of_year(1, 3, 2024)}\")  # ควรได้ 61\n",
        "print(f\"31 Dec 2024: {day_of_year(31, 12, 2024)}\")  # ควรได้ 366\n",
        "\n",
        "print(\"\\nCentury year, not a leap year (1900):\")\n",
        "print(f\"1 Mar 1900: {day_of_year(1, 3, 1900)}\")  # ควรได้ 60\n",
        "\n",
        "print(\"\\nCentury year, leap year (2000):\")\n",
        "print(f\"1 Mar 2000: {day_of_year(1, 3, 2000)}\")  # ควรได้ 61\n",
        "\n",
        "print(\"\\nMid-year dates:\")\n",
        "print(f\"15 Jun 2023: {day_of_year(15, 6, 2023)}\")  # ควรได้ 166\n",
        "print(f\"15 Jun 2024: {day_of_year(15, 6, 2024)}\")  # ควรได้ 167 (Leap year)\n",
        "\n",
        "print(\"\\nLast day of each quarter:\")\n",
        "print(f\"31 Mar 2023: {day_of_year(31, 3, 2023)}\")  # ควรได้ 90\n",
        "print(f\"30 Jun 2023: {day_of_year(30, 6, 2023)}\")  # ควรได้ 181\n",
        "print(f\"30 Sep 2023: {day_of_year(30, 9, 2023)}\")  # ควรได้ 273\n",
        "print(f\"31 Dec 2023: {day_of_year(31, 12, 2023)}\")  # ควรได้ 365"
      ],
      "metadata": {
        "id": "oerlrWw46aJZ",
        "outputId": "ccde02a8-c68d-4444-e89b-0c74494b6995",
        "colab": {
          "base_uri": "https://localhost:8080/"
        }
      },
      "execution_count": null,
      "outputs": [
        {
          "output_type": "stream",
          "name": "stdout",
          "text": [
            "Normal year (2023):\n",
            "1 Jan 2023: 1\n",
            "1 Feb 2023: 32\n",
            "1 Mar 2023: 60\n",
            "31 Dec 2023: 365\n",
            "\n",
            "Leap year (2024):\n",
            "1 Jan 2024: 1\n",
            "29 Feb 2024: 60\n",
            "1 Mar 2024: 61\n",
            "31 Dec 2024: 366\n",
            "\n",
            "Century year, not a leap year (1900):\n",
            "1 Mar 1900: 60\n",
            "\n",
            "Century year, leap year (2000):\n",
            "1 Mar 2000: 61\n",
            "\n",
            "Mid-year dates:\n",
            "15 Jun 2023: 166\n",
            "15 Jun 2024: 167\n",
            "\n",
            "Last day of each quarter:\n",
            "31 Mar 2023: 90\n",
            "30 Jun 2023: 181\n",
            "30 Sep 2023: 273\n",
            "31 Dec 2023: 365\n"
          ]
        }
      ]
    },
    {
      "cell_type": "markdown",
      "source": [
        "Exercise 5.2 ให้เขียนฟังก์ชัน เพิ่มเติมเป็น date_diff\n",
        "รับข้อมูลในรูปแบบ “dd-mm-yyyy” เช่น date_diff(“1-1-2018”, “1-1-2020”) จะได้ 731 วัน date_diff(“25-12-1999”, “9-3-2000”) จะได้ 76 วัน\n",
        "ให้เขียนฟังก์ชัน day_in_year โดยจะส่งค่าจำนวนวันของปี (365 หรือ 366) โดยรับข้อมูลเป็น ปี\n",
        "ส่งคืนข้อมูลเป็นจำนวนวันตั้งแต่วันที่แรก จนถึงวันที่สอง โดยรวมทั้ง 2 วันนั้นเข้าไปด้วย\n",
        "ให้สมมติว่าวันแรก จะต้องมาก่อนวันที่สองเสมอ ดังนั้นไม่ต้องตรวจสอบ\n"
      ],
      "metadata": {
        "id": "fkkuNcAcCo-z"
      }
    },
    {
      "cell_type": "code",
      "source": [
        "days_in_month = [31, 28, 31, 30, 31, 30, 31, 31, 30, 31, 30, 31]\n",
        "def is_leap(year):\n",
        "  x= False\n",
        "  if year%4 == 0 and year%100!=0 or year%400==0:\n",
        "      x=True\n",
        "  else:\n",
        "      x=False\n",
        "  return(x)\n",
        "  pass\n",
        "def leap_year(year):\n",
        "  x= False\n",
        "  if year%4 == 0 and year%100!=0 or year%400==0:\n",
        "      x=True\n",
        "  else:\n",
        "      x=False\n",
        "  return(x)\n",
        "  pass\n",
        "def day_of_year(day, month, year):\n",
        "  x=leap_year(year)\n",
        "  sum = 0\n",
        "  sum = sum+day\n",
        "  for i in range(0,month-1):\n",
        "      sum = sum+days_in_month[i]\n",
        "  if x==True and month>2:\n",
        "      sum = sum+1\n",
        "  return(sum)\n",
        "  pass\n",
        "\n",
        "def day_in_year(year):\n",
        "  return 366 if is_leap(year) else 365\n",
        "  pass\n",
        "def date_diff(date1, date2):\n",
        "    day1, month1, year1 = map(int, date1.split('-'))\n",
        "    day2, month2, year2 = map(int, date2.split('-'))\n",
        "    if year1 == year2:\n",
        "        return abs(day_of_year(day2, month2, year2) - day_of_year(day1, month1, year1)+1)\n",
        "    day_in_year1 = day_in_year(year1)-day_of_year(day1,month1,year1)\n",
        "    day_in_year2 = day_of_year(day2,month2,year2)\n",
        "    day_between_years= sum(day_in_year(years) for years in range(year1+1,year2))\n",
        "    return(day_in_year1+day_between_years+day_in_year2+1)\n",
        "    pass\n",
        "print(date_diff(\"1-1-2018\", \"1-1-2020\"))  # ควรได้ 731\n",
        "print(date_diff(\"25-12-1999\", \"9-3-2000\"))  # ควรได้ 76\n",
        "print(date_diff(\"1-1-2000\", \"1-1-2001\"))  # ควรได้ 367 (ปี 2000 เป็น leap year)\n",
        "print(date_diff(\"1-1-2001\", \"1-1-2002\"))  # ควรได้ 366 (ปี 2001 ไม่ใช่ leap year)\n",
        "print(date_diff(\"1-3-2000\", \"1-3-2001\"))  # ควรได้ 367 (ข้ามปี leap year)\n",
        "print(date_diff(\"1-1-2023\", \"31-12-2023\"))  # ควรได้ 365 (ทั้งปี 2023)\n",
        "\n",
        "\n"
      ],
      "metadata": {
        "id": "dwNIkw0wDRjF",
        "outputId": "3fa011c4-a67c-4891-9905-f6561e4b49f1",
        "colab": {
          "base_uri": "https://localhost:8080/"
        }
      },
      "execution_count": null,
      "outputs": [
        {
          "output_type": "stream",
          "name": "stdout",
          "text": [
            "731\n",
            "76\n",
            "367\n",
            "366\n",
            "366\n",
            "365\n"
          ]
        }
      ]
    },
    {
      "cell_type": "markdown",
      "source": [
        "Exercise 5.3 จากโปรแกรม 5.2 ให้เขียนฟังก์ชัน date_diff  เพิ่มเติม โดยให้มีการตรวจสอบ\n",
        "วันที่ต้องเป็นวันที่ถูกต้องของเดือนนั้นๆ\n",
        "เดือนต้องอยู่ระหว่าง 1-12\n",
        "เดือนกุมภาพันธ์ของปีที่มี Leap Year เท่านั้นที่จะมี 29 วันได้\n",
        "หากข้อมูล Input ผิดพลาด ให้ Return -1\n"
      ],
      "metadata": {
        "id": "JU8jQcg4WDoF"
      }
    },
    {
      "cell_type": "code",
      "source": [
        "days_in_month = [31, 28, 31, 30, 31, 30, 31, 31, 30, 31, 30, 31]\n",
        "def is_leap(year):\n",
        "  x= False\n",
        "  if year%4 == 0 and year%100!=0 or year%400==0:\n",
        "      x=True\n",
        "  else:\n",
        "      x=False\n",
        "  return(x)\n",
        "  pass\n",
        "def leap_year(year):\n",
        "  x= False\n",
        "  if year%4 == 0 and year%100!=0 or year%400==0:\n",
        "      x=True\n",
        "  else:\n",
        "      x=False\n",
        "  return(x)\n",
        "  pass\n",
        "def day_of_year(day, month, year):\n",
        "  x=leap_year(year)\n",
        "  sum = 0\n",
        "  sum = sum+day\n",
        "  for i in range(0,month-1):\n",
        "      sum = sum+days_in_month[i]\n",
        "  if x==True and month>2:\n",
        "      sum = sum+1\n",
        "  return(sum)\n",
        "  pass\n",
        "\n",
        "def day_in_year(year):\n",
        "  return 366 if is_leap(year) else 365\n",
        "  pass\n",
        "def date_diff(date1, date2):\n",
        "    if date1.isalpha()== True or date2.isalpha()== True:\n",
        "        return(-1)\n",
        "    day1, month1, year1 = map(int, date1.split('-'))\n",
        "    day2, month2, year2 = map(int, date2.split('-'))\n",
        "\n",
        "    if month1>12 or month1<0 or month2>12 or month2<0:\n",
        "        return(-1)\n",
        "    if month1>month2 and year1>year2:\n",
        "        return(-1)\n",
        "    if days_in_month[month1-1]< day1 or days_in_month[month2-1]< day2:\n",
        "        return(-1)\n",
        "\n",
        "    if year1 == year2:\n",
        "        return abs(day_of_year(day2, month2, year2) - day_of_year(day1, month1, year1)+1)\n",
        "\n",
        "    day_in_year1 = day_in_year(year1)-day_of_year(day1,month1,year1)\n",
        "    day_in_year2 = day_of_year(day2,month2,year2)\n",
        "\n",
        "    day_between_years= sum(day_in_year(years) for years in range(year1+1,year2))\n",
        "    return(day_in_year1+day_between_years+day_in_year2+1)\n",
        "    pass\n",
        "print(date_diff(\"1-1-2018\", \"1-1-2020\"))  # ควรได้ 731\n",
        "print(date_diff(\"25-12-1999\", \"9-3-2000\"))  # ควรได้ 76\n",
        "print(date_diff(\"1-1-2000\", \"1-1-2001\"))  # ควรได้ 367 (ปี 2000 เป็น leap year)\n",
        "print(date_diff(\"1-1-2001\", \"1-1-2002\"))  # ควรได้ 366 (ปี 2001 ไม่ใช่ leap year)\n",
        "print(date_diff(\"1-3-2000\", \"1-3-2001\"))  # ควรได้ 367 (ข้ามปี leap year)\n",
        "print(date_diff(\"1-1-2023\", \"31-12-2023\"))  # ควรได้ 365 (ทั้งปี 2023)\n",
        "\n",
        "# ทดสอบกรณีข้อมูลไม่ถูกต้อง\n",
        "print(date_diff(\"31-4-2023\", \"1-5-2023\"))  # ควรได้ -1 (เดือนเมษายนมี 30 วัน)\n",
        "print(date_diff(\"29-2-2023\", \"1-3-2023\"))  # ควรได้ -1 (ปี 2023 ไม่ใช่ leap year)\n",
        "print(date_diff(\"1-13-2023\", \"1-1-2024\"))  # ควรได้ -1 (เดือนไม่ถูกต้อง)\n",
        "print(date_diff(\"abc\", \"1-1-2024\"))  # ควรได้ -1 (รูปแบบวันที่ไม่ถูกต้อง)\n",
        "\n",
        "\n"
      ],
      "metadata": {
        "id": "OgqrXbFVWEML",
        "outputId": "14e17b72-0746-4289-b173-15e1a41053cb",
        "colab": {
          "base_uri": "https://localhost:8080/"
        }
      },
      "execution_count": null,
      "outputs": [
        {
          "output_type": "stream",
          "name": "stdout",
          "text": [
            "731\n",
            "76\n",
            "367\n",
            "366\n",
            "366\n",
            "365\n",
            "-1\n",
            "-1\n",
            "-1\n",
            "-1\n"
          ]
        }
      ]
    },
    {
      "cell_type": "markdown",
      "source": [
        "1.\tปลาหมอคางดำเพศเมีย 1 ตัว เมื่ออายุครบ 2 เดือน จะสามารถสืบพันธ์ได้ โดยระยะเวลาตั้งท้องจนถึง\n",
        "วางไข่ของตัวเมียจะใช้เวลา 21 วัน และฟักในปากเพศผู้อีก 7 วัน (สามารถรวมเป็น 1 เดือนได้) โดยออกไข่ครั้งละ 300 ฟอง กำหนดให้ไข่ฟักเป็นเพศผู้และเพศเมียอย่างละครึ่ง และเมื่อวางไข่แล้วจะสามารถสืบพันธ์ต่อได้ทันที กำหนดให้ปลามีอายุ 5 ปี และปลาทั้งหมดจะตาย p% ทุก 1 เดือน จงหาว่าปลาหมอคางดำหลุดจากฟาร์ม n ตัวเป็นเพศผู้และเพศเมียอย่างละครึ่ง จงเขียนโปรแกรมรับค่า n และ p ให้แสดงผลจำนวนปลาทุก 3 เดือน เป็นเวลา 10 ปี ให้เขียนเป็นฟังก์ชัน ชื่อ simulate_fish_population()\n"
      ],
      "metadata": {
        "id": "tdBCjJzeWb2c"
      }
    },
    {
      "cell_type": "code",
      "execution_count": null,
      "metadata": {
        "id": "JmvNmVQh4C9X"
      },
      "outputs": [],
      "source": [
        "import math\n",
        "\n",
        "def simulate_fish_population(n, p, months=3):\n",
        "  pass\n",
        "\n",
        "# Run simulation\n",
        "n = 2  # Initial number of fish\n",
        "p = 10  # Monthly mortality rate\n",
        "\n",
        "# simulate_fish_population(n, p)\n",
        "\n",
        "# ถ้าเริ่มต้นด้วยปลา 2 ตัว ตายเดือนละ 10%\n",
        "# เดือนที่ 1 ไข่ 300 ไบ\n",
        "# เดือนที่ 2 ไข่ 300 ใบ + ลูกปลา 270 ตัว\n",
        "# เดือนที่ 3 ไข่ 300 ใบ + ลูกปลา 270 ตัว + ปลาโตเต็มวัย 243 ตัว + 2 = 515 ตัว\n"
      ]
    },
    {
      "cell_type": "markdown",
      "source": [
        "2.\tให้เขียน function find_mismatch ซึ่งรับ string มา 2 ค่า โดยจะส่งค่ากลับดังนี้\n",
        "- 0 เมื่อ string ทั้ง 2 ตัว เหมือนกัน โดยไม่สนใจ case\n",
        "- 1 เมื่อ string 1 จะเหมือน string 2 โดยการลบและ/หรือเพิ่มตัวอักษรเพียง 1 ตัว\n",
        "- 2 เมื่อ string ไม่เข้าเกณฑ์ 0 หรือ 1\n",
        "\n",
        "\n",
        "| String  1| \tString2\t|ผลลัพธ์|\n",
        "|----------|----------|------|\n",
        "|Python|\tJava\t|2|\n",
        "|book\t |  boot\t|1|\n",
        "|fan\t |  fun\t  |1|\n",
        "|sin\t | sink\t  |1 เพราะเพิ่ม k ใน str2 แล้วจะเหมือนกัน\n",
        "|Dog\t | dog\t  |0\n",
        "|poke\t | spoke\t|1 เพิ่ม s ใน str2 แล้วเหมือนกัน\n",
        "|poker |\tpoke\t|1 ตัด r ใน str1 ออกแล้วเหมือนกัน\n",
        "\n",
        "\n",
        "\n",
        "\n"
      ],
      "metadata": {
        "id": "F0_ZEPOYbDKf"
      }
    },
    {
      "cell_type": "code",
      "source": [
        "def find_mismatch(str1, str2):\n",
        "    str1 = str1.lower()\n",
        "    str2 = str2.lower()\n",
        "    x = 0\n",
        "    least = 0\n",
        "    g = True\n",
        "    if len(str1)>=len(str2):\n",
        "        least= len(str1)\n",
        "    if len(str2)>=len(str1):\n",
        "        least = len(str2)\n",
        "    strx = []\n",
        "    stry = []\n",
        "    for i in str1:\n",
        "        strx.append(i)\n",
        "    for i in str2:\n",
        "        stry.append(i)\n",
        "    for i in strx:\n",
        "        for j in stry:\n",
        "             if i == j:\n",
        "                stry.remove(j)\n",
        "                x=x+1\n",
        "    if least - x >2:\n",
        "        return(2)\n",
        "    else:\n",
        "       return(least-x)\n",
        "pass\n",
        "\n",
        "print(find_mismatch(\"Python\",\"Java\"))\n",
        "print(find_mismatch(\"boot\",\"book\"))\n",
        "print(find_mismatch(\"fan\",\"fun\"))\n",
        "print(find_mismatch(\"sin\",\"sink\"))\n",
        "print(find_mismatch(\"Dog\",\"dog\"))\n",
        "print(find_mismatch(\"poke\",\"spoke\"))\n",
        "print(find_mismatch(\"poker\",\"poke\"))"
      ],
      "metadata": {
        "id": "jyVxAb-MXnz2",
        "outputId": "ac257799-f285-464f-dfcc-d23149b85838",
        "colab": {
          "base_uri": "https://localhost:8080/"
        }
      },
      "execution_count": 3,
      "outputs": [
        {
          "output_type": "stream",
          "name": "stdout",
          "text": [
            "2\n",
            "1\n",
            "1\n",
            "1\n",
            "0\n",
            "1\n",
            "1\n"
          ]
        }
      ]
    },
    {
      "cell_type": "markdown",
      "source": [
        "3.\tจากข้อ 1 ให้เขียนฟังก์ชันชื่อ spelling_correction โดยรับ 2 argument ตัวแรกเป็นประโยค (string) และตัวที่ 2 เป็น list ของคำ (correct_spells) โดยฟังก์ชันนี้มีหน้าที่ตรวจสอบแต่ละ word ใน input string กับคำที่อยู่ใน correct_spells โดยค่าที่คืนกลับมาจะมีดังนี้ (พยายามเรียกใช้ฟังก์ชันในข้อ 1)\n",
        "-\tถ้าคำที่อยู่ในประโยค ตรงกับคำที่อยู่ใน correct_spells ทุกอย่าง ก็จะ copy ไปที่ output string\n",
        "-\tถ้าคำที่อยู่ในประโยค ต่างจากคำที่อยู่ใน correct_spells โดยต่างกัน 1 ตัวอักษร โดยการเปลี่ยน การเพิ่ม หรือการลบ 1 ตัวอักษร คำที่อยู่ในประโยคจะถูกเปลี่ยนโดยคำที่อยู่ใน correct_spells และนำไปใส่ output string\n",
        "-\tถ้าคำที่ไม่พบในเงื่อนไขข้างต้นให้นำคำนั้นไปใส่ output string ได้เลย\n",
        "-\tคำที่ประกอบด้วย 1 หรือ 2 ตัวอักษรจะไม่ตรวจสอบ ให้นำคำนั้นไปใส่ output string ได้เลย\n",
        "-\tถ้ามี 2 คำใน correct_spells ที่ตรงตามเงื่อนไข ให้ใช้คำแรก\n",
        "-\tไม่สนใจตัวใหญ่ ตัวเล็ก\n",
        "-\tInput string จะมีได้เพียงอักษรภาษาอังกฤษเท่านั้น\n",
        "-\tในแต่ละคำจะคั่นด้วย 1 space ถ้ามี space มากกว่านั้นให้ตัดออก และตัด space จากหัวท้ายประโยค\n",
        "\n",
        "|ประโยค\t|correct_spells\t|output string |\n",
        "|-------|---------------|-------------|\n",
        "|Thes is the Firs cas\t|[‘that’,’first’,’case’,’car’]|\tthes is the first car|\n",
        "|programming is fan and easy\t|[‘programming’,’this’,’fun’,’easy’,book’]\t|programming is fun and easy|\n",
        "|Thes is vary essy\t|[‘this’,’is’,’very’,’easy’]\t|this is very easy|\n",
        "|Wee ipve Pythen\t|[‘we’,’live’,’ln’,’Python’]\t|we live python|\n",
        "\n",
        "\n"
      ],
      "metadata": {
        "id": "jzXp83HSbMh9"
      }
    },
    {
      "cell_type": "code",
      "source": [
        "def find_mismatch(str1, str2):\n",
        "    str1 = str1.lower()\n",
        "    str2 = str2.lower()\n",
        "    x = 0\n",
        "    least = 0\n",
        "    if len(str1)>=len(str2):\n",
        "        least= len(str1)\n",
        "    if len(str2)>=len(str1):\n",
        "        least = len(str2)\n",
        "    for i in range(0,len(str1)):\n",
        "        for j in range(i,len(str2)):\n",
        "            if str1[i] == str2[j]:\n",
        "                x=x+1\n",
        "                break\n",
        "    if least-x  >= 2 :\n",
        "        return(2)\n",
        "    elif least-x   >= 1:\n",
        "        return(1)\n",
        "    elif least-x >=0:\n",
        "        return(0)\n",
        "    print(x)\n",
        "pass\n",
        "def spelling_correction(input_string, correct_spells):\n",
        "  input_str = input_string.split()\n",
        "  for i in range(len(input_str)):\n",
        "    for j in range(len(correct_spells)):\n",
        "      if find_mismatch(input_str[i], correct_spells[j]) == 1:\n",
        "        input_str[i] = correct_spells[j]\n",
        "  return \" \".join(input_str)\n",
        "print(spelling_correction(\"Thes is the Firs cas\", ['that', 'first', 'case', 'car']))\n",
        "print(spelling_correction(\"programming is fan and easy\",['programming','this','fun','easy','book'])\t)\n",
        "print(spelling_correction(\"Thes is vary essy\",['this', 'is', 'very', 'easy']))\n",
        "print(spelling_correction(\"Wee ipve Pythen\",['we', 'live', 'In', 'Python']))"
      ],
      "metadata": {
        "id": "4NW0Y1hXpfCt",
        "outputId": "b3700d6c-0763-41fe-fe2b-1f7da581c59f",
        "colab": {
          "base_uri": "https://localhost:8080/"
        }
      },
      "execution_count": 4,
      "outputs": [
        {
          "output_type": "stream",
          "name": "stdout",
          "text": [
            "Thes is the first case\n",
            "programming is fun and easy\n",
            "this is very essy\n",
            "we live Python\n"
          ]
        }
      ]
    },
    {
      "cell_type": "markdown",
      "source": [
        "4. ให้เขียนฟังก์ชัน find_word_horizontal ซึ่งจะรับ list ขนาด 2 มิติ ของตัวอักษร (คล้ายกับเกม cross word) และ word ซึ่งเป็น string เป็น argument โดยฟังก์ชันนี้ จะค้นหาตามแถวของ list เพื่อหาตำแหน่งที่มีอักษรตรงกับคำใน word ถ้าพบ จะส่งคืน row index และ column index ของตัวอักษรแรก ถ้าไม่พบจะส่งคืน None\n",
        "\n",
        "```\n",
        "crosswords=[['s','d','o','g'],\n",
        "            ['c','u','c','m'],\n",
        "            ['a','c','a','t'],\n",
        "            ['t',' e','t','k']]\n",
        "\tword='cat'\n",
        "\tfind_word_horizontal(crosswords,word)\n",
        "```\n",
        "\n",
        "Output\n",
        "   [2,1]\n"
      ],
      "metadata": {
        "id": "sshYZJYZpfua"
      }
    },
    {
      "cell_type": "code",
      "source": [
        "def find_word_horizontal(crosswords, word):\n",
        "    rows = len(crosswords[0])\n",
        "    column = len(crosswords)\n",
        "    length = len(word)\n",
        "\n",
        "    for row in range(rows):\n",
        "        for col in range(column - length+1):\n",
        "            match = True\n",
        "            for i in range(length):\n",
        "                if crosswords[row][col+ i] != word[i]:\n",
        "                    match = False\n",
        "                    break\n",
        "            if match:\n",
        "                return (row, col)\n",
        "    return None\n",
        "    pass\n",
        "crosswords = [\n",
        "    ['s', 'd', 'o', 'g'],\n",
        "    ['c', 'u', 'c', 'm'],\n",
        "    ['a', 'c', 'a', 't'],\n",
        "    ['t', 'e', 't', 'k']\n",
        "]\n",
        "word = 'cat'\n",
        "\n",
        "result = find_word_horizontal(crosswords, word)\n",
        "print(result)\n"
      ],
      "metadata": {
        "id": "2z0nonPMqZ_Q",
        "colab": {
          "base_uri": "https://localhost:8080/"
        },
        "outputId": "0ab6dee8-2585-427a-d1bc-9ebc21379d79"
      },
      "execution_count": null,
      "outputs": [
        {
          "output_type": "stream",
          "name": "stdout",
          "text": [
            "(2, 1)\n"
          ]
        }
      ]
    },
    {
      "cell_type": "markdown",
      "source": [
        "5. ให้เขียนฟังก์ชัน find_word_vertical ซึ่งจะรับ list ขนาด 2 มิติ ของตัวอักษร (คล้ายกับเกม cross word) และ word ซึ่งเป็น string เป็น argument โดยฟังก์ชันนี้ จะค้นหาตามคอลัมน์ของ list เพื่อหาตำแหน่งที่มีอักษรตรงกับคำใน word ถ้าพบ จะส่งคืน row index และ column index ของตัวอักษรแรก ถ้าไม่พบจะส่งคืน None\n",
        "\n",
        "ตัวอย่าง\n",
        "```\n",
        "\tcrosswords=[['s','d','o','g'],\n",
        "              ['c','u','c','m'],\n",
        "              ['a','c','a','t'],\n",
        "              ['t',' e','t','k']]\n",
        "\tword='cat'\n",
        "\tfind_word_vertical(crosswords,word)\n",
        "```\n",
        "\n",
        "Output\n",
        "   [1,0]\n"
      ],
      "metadata": {
        "id": "sDhGHMPsqr6a"
      }
    },
    {
      "cell_type": "code",
      "source": [
        "def find_word_vertical(crosswords, word):\n",
        "    rows = len(crosswords)\n",
        "    column = len(crosswords[0])\n",
        "    length = len(word)\n",
        "\n",
        "    for col in range(column):\n",
        "        for row in range(rows - length+1):\n",
        "            match = True\n",
        "            for i in range(length):\n",
        "                if crosswords[row + i][col] != word[i]:\n",
        "                    match = False\n",
        "                    break\n",
        "            if match:\n",
        "                return (row, col)\n",
        "    return None\n",
        "    pass\n",
        "crosswords = [\n",
        "    ['s', 'd', 'o', 'g'],\n",
        "    ['c', 'u', 'c', 'm'],\n",
        "    ['a', 'c', 'a', 't'],\n",
        "    ['t', 'e', 't', 'k']\n",
        "]\n",
        "word = 'cat'\n",
        "\n",
        "result = find_word_vertical(crosswords, word)\n",
        "print(result)\n"
      ],
      "metadata": {
        "id": "R5Jp1CkQrEz9",
        "colab": {
          "base_uri": "https://localhost:8080/"
        },
        "outputId": "58a769f5-b3e1-4952-b8b0-19c11bf39291"
      },
      "execution_count": null,
      "outputs": [
        {
          "output_type": "stream",
          "name": "stdout",
          "text": [
            "(1, 0)\n"
          ]
        }
      ]
    },
    {
      "cell_type": "markdown",
      "source": [
        "6.\tให้เขียนฟังก์ชัน capitalize_word_in_crossword จะรับ list ขนาด 2 มิติ ของตัวอักษร (คล้ายกับเกม cross word) และ word ซึ่งเป็น string เป็น argument โดยฟังก์ชันนี้ จะค้นหาตาม row และ column ของ list เพื่อหาตำแหน่งที่มีอักษรตรงกับคำใน word ถ้าพบจะเปลี่ยนเป็นตัวใหญ่และ และส่งคืน list ที่แก้ไขแล้ว แต่ถ้าไม่เจอจะส่ง list เดิมกลับมา ให้ใช้ฟังก์ชันตามข้อ 3 และ 4 ช่วย\n",
        "\n",
        "```\n",
        "crosswords=[['s','d','o','g'],\n",
        "            ['c','u','c','m'],\n",
        "            ['a','x','a','t'],\n",
        "            ['t','e','t','k']]\n",
        "word='cat'\n",
        "capitalize_word_in_crossword(crosswords,word)\n",
        "```\n",
        "จะส่งค่ากลับ\n",
        "```\n",
        " [['s','d','o','g'],\n",
        "  ['C','u','c','m'],\n",
        "  ['A','x','a','t'],\n",
        "  ['T','e','t','k']]\n",
        "```\n",
        "```\n",
        "crosswords=[['s','d','o','g'],\n",
        "            ['c','u','c','m'],\n",
        "            ['a','c','a','t'],\n",
        "            ['t','e','t','k']]\n",
        "word='cat'\n",
        "capitalize_word_in_crossword(crosswords,word)\n",
        "จะส่งค่ากลับ                   \n",
        "[['s','d','o','g'],\n",
        " ['c','u','c','m'],\n",
        " ['a','C','A','T'],\n",
        " ['t','e','t','k']]\n",
        "```\n",
        "\n",
        "\n"
      ],
      "metadata": {
        "id": "dinoUBQTrDFp"
      }
    },
    {
      "cell_type": "code",
      "source": [
        "def find_word_horizontal(crosswords, word):\n",
        "    rows = len(crosswords[0])\n",
        "    column = len(crosswords)\n",
        "    length = len(word)\n",
        "\n",
        "    for row in range(rows):\n",
        "        for col in range(column - length+1):\n",
        "            match = True\n",
        "            for i in range(length):\n",
        "                if crosswords[row][col+ i] != word[i]:\n",
        "                    match = False\n",
        "                    break\n",
        "            if match:\n",
        "                return (row, col)\n",
        "    return None\n",
        "    pass\n",
        "def capitalize_word_in_crossword_Horizontal(crosswords, word):\n",
        "    position= find_word_horizontal(crosswords,word)\n",
        "    row,col=position\n",
        "    for i in range(len(word)):\n",
        "        crosswords[row][col+i] = crosswords[row][col+i].upper()\n",
        "    return(crosswords)\n",
        "    pass\n",
        "crosswords = [\n",
        "    ['s', 'd', 'o', 'g'],\n",
        "    ['a', 'u', 'a', 'm'],\n",
        "    ['a', 'c', 'a', 't'],\n",
        "    ['t', 'e', 't', 'k']\n",
        "]\n",
        "word = 'cat'\n",
        "if(find_word_horizontal(crosswords,word) != None):\n",
        "    result = capitalize_word_in_crossword_Horizontal(crosswords, word)\n",
        "    for i in range(len(result[0])):\n",
        "        print(result[i])\n",
        "else:\n",
        "    for i in range(len(crosswords[0])):\n",
        "        print(crosswords[i])\n",
        "\n",
        "print(\"____________________________\")\n",
        "\n",
        "def find_word_vertical(crosswords, word):\n",
        "    rows = len(crosswords)\n",
        "    column = len(crosswords[0])\n",
        "    length = len(word)\n",
        "\n",
        "    for col in range(column):\n",
        "        for row in range(rows - length+1):\n",
        "            match = True\n",
        "            for i in range(length):\n",
        "                if crosswords[row + i][col] != word[i]:\n",
        "                    match = False\n",
        "                    break\n",
        "            if match:\n",
        "                return (row, col)\n",
        "    return None\n",
        "    pass\n",
        "\n",
        "def capitalize_word_in_crossword_Vertical(crosswords, word):\n",
        "    position= find_word_vertical(crosswords,word)\n",
        "    row,col=position\n",
        "    for i in range(len(word)):\n",
        "        crosswords[row+i][col] = crosswords[row+i][col].upper()\n",
        "    return(crosswords)\n",
        "    pass\n",
        "crosswords = [\n",
        "    ['s', 'd', 'o', 'g'],\n",
        "    ['c', 'u', 'c', 'm'],\n",
        "    ['a', 'c', 'a', 't'],\n",
        "    ['t', 'e', 't', 'k']\n",
        "]\n",
        "\n",
        "word = 'cat'\n",
        "\n",
        "if(find_word_vertical(crosswords,word) != None):\n",
        "    result = capitalize_word_in_crossword_Vertical(crosswords, word)\n",
        "    for i in range(len(result[0])):\n",
        "        print(result[i])\n",
        "else:\n",
        "    for i in range(len(crosswords[0])):\n",
        "        print(crosswords[i])\n",
        "\n"
      ],
      "metadata": {
        "id": "IM99mZNs0css",
        "colab": {
          "base_uri": "https://localhost:8080/"
        },
        "outputId": "13d95ebb-d455-4de2-a429-0094cee8b1b3"
      },
      "execution_count": null,
      "outputs": [
        {
          "output_type": "stream",
          "name": "stdout",
          "text": [
            "['s', 'd', 'o', 'g']\n",
            "['a', 'u', 'a', 'm']\n",
            "['a', 'C', 'A', 'T']\n",
            "['t', 'e', 't', 'k']\n",
            "____________________________\n",
            "['s', 'd', 'o', 'g']\n",
            "['C', 'u', 'c', 'm']\n",
            "['A', 'c', 'a', 't']\n",
            "['T', 'e', 't', 'k']\n"
          ]
        }
      ]
    }
  ]
}